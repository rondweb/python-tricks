{
  "nbformat": 4,
  "nbformat_minor": 0,
  "metadata": {
    "colab": {
      "name": "Untitled0.ipynb",
      "provenance": []
    },
    "kernelspec": {
      "name": "python3",
      "display_name": "Python 3"
    },
    "language_info": {
      "name": "python"
    }
  },
  "cells": [
    {
      "cell_type": "markdown",
      "metadata": {
        "id": "7OgOUNgL3bYo"
      },
      "source": [
        "Trace Code in Python"
      ]
    },
    {
      "cell_type": "code",
      "metadata": {
        "id": "WGoSNMZ23c-Y"
      },
      "source": [
        "import functools"
      ],
      "execution_count": 1,
      "outputs": []
    },
    {
      "cell_type": "code",
      "metadata": {
        "id": "SFvTd8Xc3odp"
      },
      "source": [
        "def tracefunc(func):\n",
        "    \"\"\"Decorates a function to show its trace.\"\"\"\n",
        "\n",
        "    @functools.wraps(func)\n",
        "    def tracefunc_closure(*args, **kwargs):\n",
        "        \"\"\"The closure.\"\"\"\n",
        "        result = func(*args, **kwargs)\n",
        "        print(f\"{func.__name__}(args={args}, kwargs={kwargs}) => {result}\")\n",
        "        return result\n",
        "\n",
        "    return tracefunc_closure"
      ],
      "execution_count": 2,
      "outputs": []
    },
    {
      "cell_type": "code",
      "metadata": {
        "colab": {
          "base_uri": "https://localhost:8080/"
        },
        "id": "2HqHbphO3tHa",
        "outputId": "d297070e-ad2a-4814-d90d-25dac1de6b14"
      },
      "source": [
        "@tracefunc\n",
        "def show_args_and_kwargs(*args, **kwargs):\n",
        "    return\n",
        "\n",
        "@tracefunc\n",
        "def show_args_and_kwargs2(*args, **kwargs):\n",
        "    return\n",
        "\n",
        "\n",
        "if __name__ == \"__main__\":\n",
        "\n",
        "    show_args_and_kwargs(10)\n",
        "    show_args_and_kwargs(color=\"Red\")\n",
        "    show_args_and_kwargs(10, 200, color=\"Blue\", type=\"Dog\")\n",
        "\n",
        "    show_args_and_kwargs2(2, 'ABCD', person={'name': 'Mark', 'phone': '78984557235', 'age': 37})"
      ],
      "execution_count": 4,
      "outputs": [
        {
          "output_type": "stream",
          "name": "stdout",
          "text": [
            "show_args_and_kwargs(args=(10,), kwargs={}) => None\n",
            "show_args_and_kwargs(args=(), kwargs={'color': 'Red'}) => None\n",
            "show_args_and_kwargs(args=(10, 200), kwargs={'color': 'Blue', 'type': 'Dog'}) => None\n",
            "show_args_and_kwargs2(args=(2, 'ABCD'), kwargs={'person': {'name': 'Mark', 'phone': '78984557235', 'age': 37}}) => None\n"
          ]
        }
      ]
    },
    {
      "cell_type": "code",
      "metadata": {
        "id": "VCesgcoB33wT"
      },
      "source": [
        ""
      ],
      "execution_count": null,
      "outputs": []
    }
  ]
}